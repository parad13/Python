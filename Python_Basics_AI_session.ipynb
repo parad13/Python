{
  "nbformat": 4,
  "nbformat_minor": 0,
  "metadata": {
    "kernelspec": {
      "display_name": "Python 3",
      "language": "python",
      "name": "python3"
    },
    "language_info": {
      "codemirror_mode": {
        "name": "ipython",
        "version": 3
      },
      "file_extension": ".py",
      "mimetype": "text/x-python",
      "name": "python",
      "nbconvert_exporter": "python",
      "pygments_lexer": "ipython3",
      "version": "3.8.5"
    },
    "colab": {
      "name": "Python Basics AI session.ipynb",
      "provenance": [],
      "include_colab_link": true
    }
  },
  "cells": [
    {
      "cell_type": "markdown",
      "metadata": {
        "id": "view-in-github",
        "colab_type": "text"
      },
      "source": [
        "<a href=\"https://colab.research.google.com/github/parad13/Python/blob/main/Python_Basics_AI_session.ipynb\" target=\"_parent\"><img src=\"https://colab.research.google.com/assets/colab-badge.svg\" alt=\"Open In Colab\"/></a>"
      ]
    },
    {
      "cell_type": "code",
      "metadata": {
        "id": "C2tDSP-JwMLX",
        "outputId": "4c030bc0-d09b-4ab6-f4ad-50e58d707639"
      },
      "source": [
        "Input = input(\"Enter Your Name:\")"
      ],
      "execution_count": null,
      "outputs": [
        {
          "output_type": "stream",
          "text": [
            "Enter Your Name:Subhash Chandra\n"
          ],
          "name": "stdout"
        }
      ]
    },
    {
      "cell_type": "markdown",
      "metadata": {
        "id": "g3CyWOGgwMLh"
      },
      "source": [
        "# Indenting\n",
        "## Indent\n",
        "### H3\n",
        "_Paras_\n",
        ">*Paras*\n",
        ">>*Paras\n",
        ">>***Paras\n",
        ">`PARAS<BR>waral\n",
        "- Paras\n",
        "\n",
        "'Paras\n",
        "\n",
        "1. ddd\n",
        "<font color='red'>Paras\n",
        "    <a href='http://localhost:8888/notebooks'>Paras1"
      ]
    },
    {
      "cell_type": "markdown",
      "metadata": {
        "id": "V4l5qYxTwMLi"
      },
      "source": [
        "ssddd"
      ]
    },
    {
      "cell_type": "markdown",
      "metadata": {
        "id": "ArG_2Q5_wMLi"
      },
      "source": [
        ""
      ]
    },
    {
      "cell_type": "code",
      "metadata": {
        "id": "TfGikzgWwMLj"
      },
      "source": [
        "a=6\n",
        "b=9"
      ],
      "execution_count": null,
      "outputs": []
    },
    {
      "cell_type": "code",
      "metadata": {
        "id": "8Bu_CRthwMLj",
        "outputId": "0369bf75-7966-45a3-f1ad-1f3fa48dfed0"
      },
      "source": [
        "[\n",
        "    a*b,\n",
        "a**b\n",
        "]"
      ],
      "execution_count": null,
      "outputs": [
        {
          "output_type": "execute_result",
          "data": {
            "text/plain": [
              "[54, 10077696]"
            ]
          },
          "metadata": {
            "tags": []
          },
          "execution_count": 21
        }
      ]
    },
    {
      "cell_type": "code",
      "metadata": {
        "id": "Pyh0wNz0wMLk"
      },
      "source": [
        "q=++9"
      ],
      "execution_count": null,
      "outputs": []
    },
    {
      "cell_type": "code",
      "metadata": {
        "id": "NWKuu1BRwMLk",
        "outputId": "36c80b61-f557-4505-e988-5550013b73bc"
      },
      "source": [
        "q"
      ],
      "execution_count": null,
      "outputs": [
        {
          "output_type": "execute_result",
          "data": {
            "text/plain": [
              "9"
            ]
          },
          "metadata": {
            "tags": []
          },
          "execution_count": 26
        }
      ]
    },
    {
      "cell_type": "code",
      "metadata": {
        "id": "7T1wiTWmwMLl",
        "outputId": "a0a31ad0-7bc2-4c0c-e451-719d71bb7091"
      },
      "source": [
        "\"Paras is mad  \".rstrip('mad')"
      ],
      "execution_count": null,
      "outputs": [
        {
          "output_type": "execute_result",
          "data": {
            "text/plain": [
              "'Paras is mad  '"
            ]
          },
          "metadata": {
            "tags": []
          },
          "execution_count": 33
        }
      ]
    },
    {
      "cell_type": "code",
      "metadata": {
        "id": "phk7sWT8wMLm",
        "outputId": "0c4d5311-b856-4280-dfc1-45b5f7112c39"
      },
      "source": [
        "\"4&\".strip('&')"
      ],
      "execution_count": null,
      "outputs": [
        {
          "output_type": "execute_result",
          "data": {
            "text/plain": [
              "'4'"
            ]
          },
          "metadata": {
            "tags": []
          },
          "execution_count": 34
        }
      ]
    },
    {
      "cell_type": "code",
      "metadata": {
        "id": "O_xDADXpwMLm",
        "outputId": "ac3d77c2-fa61-4950-c63b-032a00b8aa57"
      },
      "source": [
        "\"  Paras is mad  \".strip()"
      ],
      "execution_count": null,
      "outputs": [
        {
          "output_type": "execute_result",
          "data": {
            "text/plain": [
              "'Paras is mad'"
            ]
          },
          "metadata": {
            "tags": []
          },
          "execution_count": 35
        }
      ]
    },
    {
      "cell_type": "code",
      "metadata": {
        "id": "2r7_M7ypwMLm"
      },
      "source": [
        "val=\"2 apples\"\n",
        "x = val[2:]"
      ],
      "execution_count": null,
      "outputs": []
    },
    {
      "cell_type": "code",
      "metadata": {
        "id": "GDY7JrpOwMLn",
        "outputId": "da53850f-7afb-4e44-8bb2-03808e49a65b"
      },
      "source": [
        "x"
      ],
      "execution_count": null,
      "outputs": [
        {
          "output_type": "execute_result",
          "data": {
            "text/plain": [
              "'apples'"
            ]
          },
          "metadata": {
            "tags": []
          },
          "execution_count": 38
        }
      ]
    },
    {
      "cell_type": "code",
      "metadata": {
        "id": "IM8d1dW3wMLn",
        "outputId": "e89c1aa9-22db-42c9-9f8b-43924d195b87"
      },
      "source": [
        "\"Paras \" * 3"
      ],
      "execution_count": null,
      "outputs": [
        {
          "output_type": "execute_result",
          "data": {
            "text/plain": [
              "'Paras Paras Paras '"
            ]
          },
          "metadata": {
            "tags": []
          },
          "execution_count": 44
        }
      ]
    },
    {
      "cell_type": "code",
      "metadata": {
        "id": "guOk7UFowMLo"
      },
      "source": [
        "myset=set(2,4,5,45)"
      ],
      "execution_count": null,
      "outputs": []
    },
    {
      "cell_type": "code",
      "metadata": {
        "id": "GD-QritzwMLo"
      },
      "source": [
        "list = [1,2,3]"
      ],
      "execution_count": null,
      "outputs": []
    },
    {
      "cell_type": "code",
      "metadata": {
        "id": "CJ1gW0CuwMLo",
        "outputId": "3a6338b8-0bce-4730-8b9f-5252bf27e90c"
      },
      "source": [
        "[n*m for n in list for m in range(1,4)]"
      ],
      "execution_count": null,
      "outputs": [
        {
          "output_type": "execute_result",
          "data": {
            "text/plain": [
              "[1, 2, 3, 2, 4, 6, 3, 6, 9]"
            ]
          },
          "metadata": {
            "tags": []
          },
          "execution_count": 9
        }
      ]
    },
    {
      "cell_type": "code",
      "metadata": {
        "collapsed": true,
        "id": "D9flaS8NwMLp",
        "outputId": "ad6c7d54-772e-45dd-e4d8-dac7e40ebc82"
      },
      "source": [
        "[n*m for n in range(1,11) for m in range(1,4)]"
      ],
      "execution_count": null,
      "outputs": [
        {
          "output_type": "execute_result",
          "data": {
            "text/plain": [
              "[1,\n",
              " 2,\n",
              " 3,\n",
              " 2,\n",
              " 4,\n",
              " 6,\n",
              " 3,\n",
              " 6,\n",
              " 9,\n",
              " 4,\n",
              " 8,\n",
              " 12,\n",
              " 5,\n",
              " 10,\n",
              " 15,\n",
              " 6,\n",
              " 12,\n",
              " 18,\n",
              " 7,\n",
              " 14,\n",
              " 21,\n",
              " 8,\n",
              " 16,\n",
              " 24,\n",
              " 9,\n",
              " 18,\n",
              " 27,\n",
              " 10,\n",
              " 20,\n",
              " 30]"
            ]
          },
          "metadata": {
            "tags": []
          },
          "execution_count": 10
        }
      ]
    },
    {
      "cell_type": "code",
      "metadata": {
        "collapsed": true,
        "id": "RBsZ9sMowMLq",
        "outputId": "c3170a54-96a4-4409-eb3d-1b4a8733bf43"
      },
      "source": [
        "[m*n for m in range(1,4) for n in range(1,11) ]"
      ],
      "execution_count": null,
      "outputs": [
        {
          "output_type": "execute_result",
          "data": {
            "text/plain": [
              "[1,\n",
              " 2,\n",
              " 3,\n",
              " 4,\n",
              " 5,\n",
              " 6,\n",
              " 7,\n",
              " 8,\n",
              " 9,\n",
              " 10,\n",
              " 2,\n",
              " 4,\n",
              " 6,\n",
              " 8,\n",
              " 10,\n",
              " 12,\n",
              " 14,\n",
              " 16,\n",
              " 18,\n",
              " 20,\n",
              " 3,\n",
              " 6,\n",
              " 9,\n",
              " 12,\n",
              " 15,\n",
              " 18,\n",
              " 21,\n",
              " 24,\n",
              " 27,\n",
              " 30]"
            ]
          },
          "metadata": {
            "tags": []
          },
          "execution_count": 12
        }
      ]
    },
    {
      "cell_type": "markdown",
      "metadata": {
        "id": "-h3iSDl_wMLq"
      },
      "source": [
        "# Map\n",
        "\n",
        "def \n",
        "x = map(2*2 )"
      ]
    },
    {
      "cell_type": "code",
      "metadata": {
        "id": "cuJ2_1C1wMLr",
        "outputId": "11669d81-e267-4666-c95a-0e026a715ca4"
      },
      "source": [
        "def myfunc(n):\n",
        "  return len(n)\n",
        "\n",
        "x = map(myfunc, ('apple', 'banana', 'cherry'))\n",
        "type(x)"
      ],
      "execution_count": null,
      "outputs": [
        {
          "output_type": "execute_result",
          "data": {
            "text/plain": [
              "map"
            ]
          },
          "metadata": {
            "tags": []
          },
          "execution_count": 21
        }
      ]
    },
    {
      "cell_type": "code",
      "metadata": {
        "id": "EsgUs-S5wMLs",
        "outputId": "952e64c5-eb9f-48bc-a123-b671e711ab3d"
      },
      "source": [
        "def add(*n):\n",
        "    return(sum(n))\n",
        "#*n -> We can pass no. of arguments as a tuple (2,3,4,...,n)\n",
        "x=add(1,23,3)\n",
        "x"
      ],
      "execution_count": null,
      "outputs": [
        {
          "output_type": "execute_result",
          "data": {
            "text/plain": [
              "27"
            ]
          },
          "metadata": {
            "tags": []
          },
          "execution_count": 26
        }
      ]
    },
    {
      "cell_type": "code",
      "metadata": {
        "id": "21yZu3BRwMLs",
        "outputId": "e07e69fa-a990-4e97-d5eb-38c1a5876839"
      },
      "source": [
        "x='Paras Is GOAT'\n",
        "Join_by_comma = lambda x: ','.join(x)\n",
        "Join_by_comma(x)"
      ],
      "execution_count": null,
      "outputs": [
        {
          "output_type": "execute_result",
          "data": {
            "text/plain": [
              "'P,a,r,a,s, ,I,s, ,G,O,A,T'"
            ]
          },
          "metadata": {
            "tags": []
          },
          "execution_count": 39
        }
      ]
    },
    {
      "cell_type": "code",
      "metadata": {
        "id": "voD3YqeqwMLt",
        "outputId": "374bdcd1-069d-4103-fef9-fb8e0b9d5797"
      },
      "source": [
        ""
      ],
      "execution_count": null,
      "outputs": [
        {
          "output_type": "error",
          "ename": "NameError",
          "evalue": "name 'ramna' is not defined",
          "traceback": [
            "\u001b[1;31m---------------------------------------------------------------------------\u001b[0m",
            "\u001b[1;31mNameError\u001b[0m                                 Traceback (most recent call last)",
            "\u001b[1;32m<ipython-input-31-b2d200b1501f>\u001b[0m in \u001b[0;36m<module>\u001b[1;34m\u001b[0m\n\u001b[1;32m----> 1\u001b[1;33m \u001b[0mj\u001b[0m\u001b[1;33m(\u001b[0m\u001b[0mramna\u001b[0m\u001b[1;33m)\u001b[0m\u001b[1;33m\u001b[0m\u001b[1;33m\u001b[0m\u001b[0m\n\u001b[0m",
            "\u001b[1;31mNameError\u001b[0m: name 'ramna' is not defined"
          ]
        }
      ]
    },
    {
      "cell_type": "code",
      "metadata": {
        "id": "ZEoYBpXLwMLt"
      },
      "source": [
        "def sqr(n):\n",
        "  return (n*n)\n",
        "\n",
        "print(list(map(lambda x: 1 if(x[0]==))))"
      ],
      "execution_count": null,
      "outputs": []
    }
  ]
}