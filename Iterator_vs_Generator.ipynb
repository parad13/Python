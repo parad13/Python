{
  "nbformat": 4,
  "nbformat_minor": 5,
  "metadata": {
    "kernelspec": {
      "display_name": "Python 3",
      "language": "python",
      "name": "python3"
    },
    "language_info": {
      "codemirror_mode": {
        "name": "ipython",
        "version": 3
      },
      "file_extension": ".py",
      "mimetype": "text/x-python",
      "name": "python",
      "nbconvert_exporter": "python",
      "pygments_lexer": "ipython3",
      "version": "3.9.0"
    },
    "colab": {
      "name": "Iterator vs Generator.ipynb",
      "provenance": [],
      "include_colab_link": true
    }
  },
  "cells": [
    {
      "cell_type": "markdown",
      "metadata": {
        "id": "view-in-github",
        "colab_type": "text"
      },
      "source": [
        "<a href=\"https://colab.research.google.com/github/parad13/Python/blob/main/Iterator_vs_Generator.ipynb\" target=\"_parent\"><img src=\"https://colab.research.google.com/assets/colab-badge.svg\" alt=\"Open In Colab\"/></a>"
      ]
    },
    {
      "cell_type": "code",
      "metadata": {
        "id": "boolean-heaven",
        "outputId": "1947e76a-cb39-4b99-fe51-8861a339455f"
      },
      "source": [
        "from itertools import islice\n",
        "\n",
        "def fib():\n",
        "    prev, curr = 0, 1\n",
        "    while True:\n",
        "        yield curr\n",
        "        prev, curr = curr, prev + curr\n",
        "f = fib()\n",
        "list(islice(f, 0, 10))\n",
        "# [1, 1, 2, 3, 5, 8, 13, 21, 34, 55]"
      ],
      "id": "boolean-heaven",
      "execution_count": null,
      "outputs": [
        {
          "output_type": "execute_result",
          "data": {
            "text/plain": [
              "[1, 1, 2, 3, 5, 8, 13, 21, 34, 55]"
            ]
          },
          "metadata": {
            "tags": []
          },
          "execution_count": 1
        }
      ]
    }
  ]
}