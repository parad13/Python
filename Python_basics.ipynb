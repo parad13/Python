{
  "nbformat": 4,
  "nbformat_minor": 0,
  "metadata": {
    "kernelspec": {
      "display_name": "Python 3",
      "language": "python",
      "name": "python3"
    },
    "language_info": {
      "codemirror_mode": {
        "name": "ipython",
        "version": 3
      },
      "file_extension": ".py",
      "mimetype": "text/x-python",
      "name": "python",
      "nbconvert_exporter": "python",
      "pygments_lexer": "ipython3",
      "version": "3.7.6"
    },
    "colab": {
      "name": "Python basics.ipynb",
      "provenance": [],
      "include_colab_link": true
    }
  },
  "cells": [
    {
      "cell_type": "markdown",
      "metadata": {
        "id": "view-in-github",
        "colab_type": "text"
      },
      "source": [
        "<a href=\"https://colab.research.google.com/github/parad13/Python/blob/main/Python_basics.ipynb\" target=\"_parent\"><img src=\"https://colab.research.google.com/assets/colab-badge.svg\" alt=\"Open In Colab\"/></a>"
      ]
    },
    {
      "cell_type": "markdown",
      "metadata": {
        "id": "P36HCc_KwNkl"
      },
      "source": [
        "# Methods in python"
      ]
    },
    {
      "cell_type": "code",
      "metadata": {
        "id": "lG9u0iIrwNkq",
        "outputId": "764875b5-bcd4-4680-c7b4-d7d46592d2bd"
      },
      "source": [
        "def even_odd(n):\n",
        "     return([\"Even\" if n%2==0 else \"Odd\"])\n",
        "      \n",
        "even_odd(9)"
      ],
      "execution_count": null,
      "outputs": [
        {
          "output_type": "execute_result",
          "data": {
            "text/plain": [
              "['Odd']"
            ]
          },
          "metadata": {
            "tags": []
          },
          "execution_count": 19
        }
      ]
    },
    {
      "cell_type": "code",
      "metadata": {
        "id": "ImxRZ4nlwNkt"
      },
      "source": [
        "def hello_world():\n",
        "    return 'Hello World!'"
      ],
      "execution_count": null,
      "outputs": []
    },
    {
      "cell_type": "code",
      "metadata": {
        "id": "6xmQpA_owNku"
      },
      "source": [
        "val=hello_world() "
      ],
      "execution_count": null,
      "outputs": []
    },
    {
      "cell_type": "code",
      "metadata": {
        "id": "sy8wCdXgwNkw",
        "outputId": "7d94e8c0-d3c4-437c-b3f8-6d37137a42b5"
      },
      "source": [
        "print(val)"
      ],
      "execution_count": null,
      "outputs": [
        {
          "output_type": "stream",
          "text": [
            "Hello World!\n"
          ],
          "name": "stdout"
        }
      ]
    },
    {
      "cell_type": "code",
      "metadata": {
        "id": "4FTyTS6GwNkx",
        "outputId": "09826b48-7b14-44cb-bbb8-4a3cd7543446"
      },
      "source": [
        "def add_number(n1,n2):\n",
        "    return n1+n2\n",
        "add_number(2,4)"
      ],
      "execution_count": null,
      "outputs": [
        {
          "output_type": "execute_result",
          "data": {
            "text/plain": [
              "6"
            ]
          },
          "metadata": {
            "tags": []
          },
          "execution_count": 19
        }
      ]
    },
    {
      "cell_type": "code",
      "metadata": {
        "id": "KpVPgPMVwNkz"
      },
      "source": [
        "def hello1(name,address):\n",
        "    print('My name is {} & age is {}'.format(name,address))   "
      ],
      "execution_count": null,
      "outputs": []
    },
    {
      "cell_type": "code",
      "metadata": {
        "id": "F9rf2di2wNk0",
        "outputId": "83d88fe7-f8fe-47eb-c2f8-926bdccec916"
      },
      "source": [
        "hello1(address='Pune',name='Paras')"
      ],
      "execution_count": null,
      "outputs": [
        {
          "output_type": "stream",
          "text": [
            "My name is Paras & age is Pune\n"
          ],
          "name": "stdout"
        }
      ]
    },
    {
      "cell_type": "markdown",
      "metadata": {
        "id": "hGVPvhjYwNk1"
      },
      "source": [
        "# args & kwargs in python"
      ]
    },
    {
      "cell_type": "code",
      "metadata": {
        "id": "wV9RjlANwNk2"
      },
      "source": [
        "def hello(*args,**kwargs):\n",
        "    print(args)\n",
        "    print(kwargs)"
      ],
      "execution_count": null,
      "outputs": []
    },
    {
      "cell_type": "code",
      "metadata": {
        "id": "ykMR1reewNk3",
        "outputId": "15a8952b-8a5e-4570-b176-83cfdc76e1d2"
      },
      "source": [
        "hello('Paras','Waral',age=90)"
      ],
      "execution_count": null,
      "outputs": [
        {
          "output_type": "stream",
          "text": [
            "('Paras', 'Waral')\n",
            "{'age': 90}\n"
          ],
          "name": "stdout"
        }
      ]
    },
    {
      "cell_type": "code",
      "metadata": {
        "id": "EYKUud_2wNk4",
        "outputId": "5e337e03-2c6c-4767-eed6-be686ed8bedc"
      },
      "source": [
        "lst=['Paras','Waral']\n",
        "dict={'age':23,'dob':'09/23/2000'}\n",
        "hello(*lst,**dict)"
      ],
      "execution_count": null,
      "outputs": [
        {
          "output_type": "stream",
          "text": [
            "('Paras', 'Waral')\n",
            "{'age': 23, 'dob': '09/23/2000'}\n"
          ],
          "name": "stdout"
        }
      ]
    },
    {
      "cell_type": "code",
      "metadata": {
        "id": "ut8qp6BiwNk5",
        "outputId": "a26281b2-a4ac-456f-d01e-f5e8a4a3e188"
      },
      "source": [
        "lst=[1,2,3,4,5,5,6]\n",
        "def even_odd_sum(lst):\n",
        "    even_sum=0\n",
        "    odd_sum=0\n",
        "    for i in lst:\n",
        "        if i%2==0:\n",
        "            even_sum+=i\n",
        "        else:\n",
        "            odd_sum+=i\n",
        "    return even_sum,odd_sum        \n",
        "even_odd_sum(lst)    "
      ],
      "execution_count": null,
      "outputs": [
        {
          "output_type": "execute_result",
          "data": {
            "text/plain": [
              "(12, 14)"
            ]
          },
          "metadata": {
            "tags": []
          },
          "execution_count": 11
        }
      ]
    },
    {
      "cell_type": "markdown",
      "metadata": {
        "id": "6qWRDJeRwNk8"
      },
      "source": [
        "# Lambda/Anonymous fn"
      ]
    },
    {
      "cell_type": "code",
      "metadata": {
        "id": "bw3N8wr8wNk9",
        "outputId": "8186ed26-240e-44ea-93dc-520960ef24df"
      },
      "source": [
        "addition=lambda a:a%2==0\n",
        "addition(9)"
      ],
      "execution_count": null,
      "outputs": [
        {
          "output_type": "execute_result",
          "data": {
            "text/plain": [
              "False"
            ]
          },
          "metadata": {
            "tags": []
          },
          "execution_count": 42
        }
      ]
    },
    {
      "cell_type": "code",
      "metadata": {
        "id": "10JOGtExwNk_",
        "outputId": "fe69a731-3095-4f17-ec0b-5495bd4d26b0"
      },
      "source": [
        "list(map(even_odd,lst))[2:6]"
      ],
      "execution_count": null,
      "outputs": [
        {
          "output_type": "execute_result",
          "data": {
            "text/plain": [
              "[['Odd'], ['Even'], ['Odd'], ['Odd']]"
            ]
          },
          "metadata": {
            "tags": []
          },
          "execution_count": 16
        }
      ]
    },
    {
      "cell_type": "code",
      "metadata": {
        "id": "y4C6TNWDwNlA",
        "outputId": "a7644340-ebf6-43b9-b414-882586f6b1fc"
      },
      "source": [
        "list(map(lambda n:n%2==0,lst))\n",
        "#even_odd([i for i in lst])"
      ],
      "execution_count": null,
      "outputs": [
        {
          "output_type": "execute_result",
          "data": {
            "text/plain": [
              "[False, True, False, True, False, False, True]"
            ]
          },
          "metadata": {
            "tags": []
          },
          "execution_count": 26
        }
      ]
    },
    {
      "cell_type": "markdown",
      "metadata": {
        "id": "1LCvmowGwNlD"
      },
      "source": [
        "#  List Comprehension"
      ]
    },
    {
      "cell_type": "code",
      "metadata": {
        "id": "ptVLqbJjwNlE",
        "outputId": "11f4458a-eb29-440b-b6ac-fb121f953b3f"
      },
      "source": [
        "lst1=[]\n",
        "def lst_square(lst):\n",
        "    for _ in lst:\n",
        "        lst1.append(_**2)\n",
        "    return lst1\n",
        "lst_square(lst)"
      ],
      "execution_count": null,
      "outputs": [
        {
          "output_type": "execute_result",
          "data": {
            "text/plain": [
              "[1, 4, 9, 16, 25, 25, 36]"
            ]
          },
          "metadata": {
            "tags": []
          },
          "execution_count": 31
        }
      ]
    },
    {
      "cell_type": "code",
      "metadata": {
        "id": "u2kxbMNrwNlF",
        "outputId": "270e2614-47ec-478f-8443-4f3ad79d7c83"
      },
      "source": [
        "[_**2 for _ in lst]"
      ],
      "execution_count": null,
      "outputs": [
        {
          "output_type": "execute_result",
          "data": {
            "text/plain": [
              "[1, 4, 9, 16, 25, 25, 36]"
            ]
          },
          "metadata": {
            "tags": []
          },
          "execution_count": 32
        }
      ]
    },
    {
      "cell_type": "code",
      "metadata": {
        "id": "iMKXfiPhwNlH",
        "outputId": "d620cd83-67a7-4a33-cb1c-248b89f1fbc7"
      },
      "source": [
        "[_**2 for _ in lst if _%2==0]"
      ],
      "execution_count": null,
      "outputs": [
        {
          "output_type": "execute_result",
          "data": {
            "text/plain": [
              "[1, 9, 25, 25]"
            ]
          },
          "metadata": {
            "tags": []
          },
          "execution_count": 34
        }
      ]
    },
    {
      "cell_type": "code",
      "metadata": {
        "id": "Vjok8gSPwNlI",
        "outputId": "e1c1fa41-ffc6-4717-e6d9-2c58ea35a6f0"
      },
      "source": [
        "[_**2 for _ in lst if _%2!=0]"
      ],
      "execution_count": null,
      "outputs": [
        {
          "output_type": "execute_result",
          "data": {
            "text/plain": [
              "[1, 9, 25, 25]"
            ]
          },
          "metadata": {
            "tags": []
          },
          "execution_count": 35
        }
      ]
    },
    {
      "cell_type": "markdown",
      "metadata": {
        "id": "0IDtJuMpwNlK"
      },
      "source": [
        "# format function in strings"
      ]
    },
    {
      "cell_type": "code",
      "metadata": {
        "id": "T4I41LEuwNlL"
      },
      "source": [
        "def greeting(name):\n",
        "    return 'Hello ({})'.format(lst)"
      ],
      "execution_count": null,
      "outputs": []
    },
    {
      "cell_type": "code",
      "metadata": {
        "id": "yUeo_d4DwNlL",
        "outputId": "d9b71dea-4243-4254-b633-d5806729c5f9"
      },
      "source": [
        "greeting('Paras !')"
      ],
      "execution_count": null,
      "outputs": [
        {
          "output_type": "execute_result",
          "data": {
            "text/plain": [
              "'Hello (Paras !)'"
            ]
          },
          "metadata": {
            "tags": []
          },
          "execution_count": 42
        }
      ]
    },
    {
      "cell_type": "code",
      "metadata": {
        "id": "7EeLhTD0wNlN",
        "outputId": "b53f3190-ffd3-4ad2-c944-c0835ff2b99b"
      },
      "source": [
        "def welcome_email(f_name,l_name):\n",
        "    return 'Welcome {}, Everyone {} {}'.format(l_name,f_name,'Family')\n",
        "welcome_email('Paras','Waral')"
      ],
      "execution_count": null,
      "outputs": [
        {
          "output_type": "execute_result",
          "data": {
            "text/plain": [
              "'Welcome Waral, Everyone Paras Family'"
            ]
          },
          "metadata": {
            "tags": []
          },
          "execution_count": 56
        }
      ]
    },
    {
      "cell_type": "markdown",
      "metadata": {
        "id": "5NL9e8gSwNlP"
      },
      "source": [
        "# Zip function"
      ]
    },
    {
      "cell_type": "code",
      "metadata": {
        "id": "P_VeG8dRwNlQ",
        "outputId": "2279bb40-96a1-406d-ce10-ce7bd63b0007"
      },
      "source": [
        "#Zip Function\n",
        "\n",
        "lst1=['a','b','c']\n",
        "lst2=[1,2,3]\n",
        "tup=('I','II','III')\n",
        "list(zip(lst1,lst2,tup))"
      ],
      "execution_count": null,
      "outputs": [
        {
          "output_type": "execute_result",
          "data": {
            "text/plain": [
              "[('a', 1, 'I'), ('b', 2, 'II'), ('c', 3, 'III')]"
            ]
          },
          "metadata": {
            "tags": []
          },
          "execution_count": 40
        }
      ]
    },
    {
      "cell_type": "code",
      "metadata": {
        "id": "ojrKU0RIwNlW"
      },
      "source": [
        "lst=[1,2,3,4,5,4]\n",
        "lst2=iter(lst)"
      ],
      "execution_count": null,
      "outputs": []
    },
    {
      "cell_type": "code",
      "metadata": {
        "id": "yu0eeQv3wNlX",
        "outputId": "b0bcc26a-1cd3-4307-87f2-7c42af0c2c8c"
      },
      "source": [
        "list(zip(lst,lst2,lst1,tup))"
      ],
      "execution_count": null,
      "outputs": [
        {
          "output_type": "execute_result",
          "data": {
            "text/plain": [
              "[(1, 1, 'a', 'I'), (2, 2, 'b', 'II'), (3, 3, 'c', 'III')]"
            ]
          },
          "metadata": {
            "tags": []
          },
          "execution_count": 43
        }
      ]
    }
  ]
}